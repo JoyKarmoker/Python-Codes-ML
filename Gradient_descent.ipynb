{
  "nbformat": 4,
  "nbformat_minor": 0,
  "metadata": {
    "colab": {
      "provenance": [],
      "authorship_tag": "ABX9TyNx9WWabjnsm8tvs+U0qwyh",
      "include_colab_link": true
    },
    "kernelspec": {
      "name": "python3",
      "display_name": "Python 3"
    },
    "language_info": {
      "name": "python"
    },
    "accelerator": "GPU",
    "gpuClass": "standard"
  },
  "cells": [
    {
      "cell_type": "markdown",
      "metadata": {
        "id": "view-in-github",
        "colab_type": "text"
      },
      "source": [
        "<a href=\"https://colab.research.google.com/github/JoyKarmoker/Python-Codes-ML/blob/master/Gradient_descent.ipynb\" target=\"_parent\"><img src=\"https://colab.research.google.com/assets/colab-badge.svg\" alt=\"Open In Colab\"/></a>"
      ]
    },
    {
      "cell_type": "code",
      "execution_count": 25,
      "metadata": {
        "colab": {
          "base_uri": "https://localhost:8080/"
        },
        "id": "7fPj40ZWWc8K",
        "outputId": "b957a890-fd6c-49bf-b03d-63ef019d7079"
      },
      "outputs": [
        {
          "output_type": "stream",
          "name": "stdout",
          "text": [
            "Drive already mounted at /content/drive; to attempt to forcibly remount, call drive.mount(\"/content/drive\", force_remount=True).\n"
          ]
        }
      ],
      "source": [
        "# Load the Drive helper and mount\n",
        "from google.colab import drive\n",
        "import tensorflow as tf\n",
        "from tensorflow import keras\n",
        "import numpy as np\n",
        "from tensorflow.keras import layers\n",
        "\n",
        "# This will prompt for authorization.\n",
        "drive.mount('/content/drive')"
      ]
    },
    {
      "cell_type": "code",
      "source": [
        "import pandas as pd"
      ],
      "metadata": {
        "id": "rh9qCR8AW1bd"
      },
      "execution_count": 2,
      "outputs": []
    },
    {
      "cell_type": "code",
      "source": [
        "df = pd.read_csv('/content/drive/MyDrive/insurance_data.csv')\n",
        "df.head()"
      ],
      "metadata": {
        "colab": {
          "base_uri": "https://localhost:8080/",
          "height": 206
        },
        "id": "d4OZ2kDBW4va",
        "outputId": "2be62632-ad55-4621-c916-473bfea26470"
      },
      "execution_count": 3,
      "outputs": [
        {
          "output_type": "execute_result",
          "data": {
            "text/plain": [
              "   age  affordibility  bought_insurance\n",
              "0   22              1                 0\n",
              "1   25              0                 0\n",
              "2   47              1                 1\n",
              "3   52              0                 0\n",
              "4   46              1                 1"
            ],
            "text/html": [
              "\n",
              "  <div id=\"df-e9cd2940-b82d-451c-87a4-3f4590712c73\">\n",
              "    <div class=\"colab-df-container\">\n",
              "      <div>\n",
              "<style scoped>\n",
              "    .dataframe tbody tr th:only-of-type {\n",
              "        vertical-align: middle;\n",
              "    }\n",
              "\n",
              "    .dataframe tbody tr th {\n",
              "        vertical-align: top;\n",
              "    }\n",
              "\n",
              "    .dataframe thead th {\n",
              "        text-align: right;\n",
              "    }\n",
              "</style>\n",
              "<table border=\"1\" class=\"dataframe\">\n",
              "  <thead>\n",
              "    <tr style=\"text-align: right;\">\n",
              "      <th></th>\n",
              "      <th>age</th>\n",
              "      <th>affordibility</th>\n",
              "      <th>bought_insurance</th>\n",
              "    </tr>\n",
              "  </thead>\n",
              "  <tbody>\n",
              "    <tr>\n",
              "      <th>0</th>\n",
              "      <td>22</td>\n",
              "      <td>1</td>\n",
              "      <td>0</td>\n",
              "    </tr>\n",
              "    <tr>\n",
              "      <th>1</th>\n",
              "      <td>25</td>\n",
              "      <td>0</td>\n",
              "      <td>0</td>\n",
              "    </tr>\n",
              "    <tr>\n",
              "      <th>2</th>\n",
              "      <td>47</td>\n",
              "      <td>1</td>\n",
              "      <td>1</td>\n",
              "    </tr>\n",
              "    <tr>\n",
              "      <th>3</th>\n",
              "      <td>52</td>\n",
              "      <td>0</td>\n",
              "      <td>0</td>\n",
              "    </tr>\n",
              "    <tr>\n",
              "      <th>4</th>\n",
              "      <td>46</td>\n",
              "      <td>1</td>\n",
              "      <td>1</td>\n",
              "    </tr>\n",
              "  </tbody>\n",
              "</table>\n",
              "</div>\n",
              "      <button class=\"colab-df-convert\" onclick=\"convertToInteractive('df-e9cd2940-b82d-451c-87a4-3f4590712c73')\"\n",
              "              title=\"Convert this dataframe to an interactive table.\"\n",
              "              style=\"display:none;\">\n",
              "        \n",
              "  <svg xmlns=\"http://www.w3.org/2000/svg\" height=\"24px\"viewBox=\"0 0 24 24\"\n",
              "       width=\"24px\">\n",
              "    <path d=\"M0 0h24v24H0V0z\" fill=\"none\"/>\n",
              "    <path d=\"M18.56 5.44l.94 2.06.94-2.06 2.06-.94-2.06-.94-.94-2.06-.94 2.06-2.06.94zm-11 1L8.5 8.5l.94-2.06 2.06-.94-2.06-.94L8.5 2.5l-.94 2.06-2.06.94zm10 10l.94 2.06.94-2.06 2.06-.94-2.06-.94-.94-2.06-.94 2.06-2.06.94z\"/><path d=\"M17.41 7.96l-1.37-1.37c-.4-.4-.92-.59-1.43-.59-.52 0-1.04.2-1.43.59L10.3 9.45l-7.72 7.72c-.78.78-.78 2.05 0 2.83L4 21.41c.39.39.9.59 1.41.59.51 0 1.02-.2 1.41-.59l7.78-7.78 2.81-2.81c.8-.78.8-2.07 0-2.86zM5.41 20L4 18.59l7.72-7.72 1.47 1.35L5.41 20z\"/>\n",
              "  </svg>\n",
              "      </button>\n",
              "      \n",
              "  <style>\n",
              "    .colab-df-container {\n",
              "      display:flex;\n",
              "      flex-wrap:wrap;\n",
              "      gap: 12px;\n",
              "    }\n",
              "\n",
              "    .colab-df-convert {\n",
              "      background-color: #E8F0FE;\n",
              "      border: none;\n",
              "      border-radius: 50%;\n",
              "      cursor: pointer;\n",
              "      display: none;\n",
              "      fill: #1967D2;\n",
              "      height: 32px;\n",
              "      padding: 0 0 0 0;\n",
              "      width: 32px;\n",
              "    }\n",
              "\n",
              "    .colab-df-convert:hover {\n",
              "      background-color: #E2EBFA;\n",
              "      box-shadow: 0px 1px 2px rgba(60, 64, 67, 0.3), 0px 1px 3px 1px rgba(60, 64, 67, 0.15);\n",
              "      fill: #174EA6;\n",
              "    }\n",
              "\n",
              "    [theme=dark] .colab-df-convert {\n",
              "      background-color: #3B4455;\n",
              "      fill: #D2E3FC;\n",
              "    }\n",
              "\n",
              "    [theme=dark] .colab-df-convert:hover {\n",
              "      background-color: #434B5C;\n",
              "      box-shadow: 0px 1px 3px 1px rgba(0, 0, 0, 0.15);\n",
              "      filter: drop-shadow(0px 1px 2px rgba(0, 0, 0, 0.3));\n",
              "      fill: #FFFFFF;\n",
              "    }\n",
              "  </style>\n",
              "\n",
              "      <script>\n",
              "        const buttonEl =\n",
              "          document.querySelector('#df-e9cd2940-b82d-451c-87a4-3f4590712c73 button.colab-df-convert');\n",
              "        buttonEl.style.display =\n",
              "          google.colab.kernel.accessAllowed ? 'block' : 'none';\n",
              "\n",
              "        async function convertToInteractive(key) {\n",
              "          const element = document.querySelector('#df-e9cd2940-b82d-451c-87a4-3f4590712c73');\n",
              "          const dataTable =\n",
              "            await google.colab.kernel.invokeFunction('convertToInteractive',\n",
              "                                                     [key], {});\n",
              "          if (!dataTable) return;\n",
              "\n",
              "          const docLinkHtml = 'Like what you see? Visit the ' +\n",
              "            '<a target=\"_blank\" href=https://colab.research.google.com/notebooks/data_table.ipynb>data table notebook</a>'\n",
              "            + ' to learn more about interactive tables.';\n",
              "          element.innerHTML = '';\n",
              "          dataTable['output_type'] = 'display_data';\n",
              "          await google.colab.output.renderOutput(dataTable, element);\n",
              "          const docLink = document.createElement('div');\n",
              "          docLink.innerHTML = docLinkHtml;\n",
              "          element.appendChild(docLink);\n",
              "        }\n",
              "      </script>\n",
              "    </div>\n",
              "  </div>\n",
              "  "
            ]
          },
          "metadata": {},
          "execution_count": 3
        }
      ]
    },
    {
      "cell_type": "code",
      "source": [
        "from sklearn.model_selection import train_test_split\n",
        "X_train, X_test, y_train, y_test = train_test_split(df[['age', 'affordibility']], df.bought_insurance, test_size = 0.2, random_state=25)"
      ],
      "metadata": {
        "id": "cjthU3FhXqGA"
      },
      "execution_count": 4,
      "outputs": []
    },
    {
      "cell_type": "code",
      "source": [
        "X_train"
      ],
      "metadata": {
        "colab": {
          "base_uri": "https://localhost:8080/",
          "height": 739
        },
        "id": "Dk8LPP3CZNxW",
        "outputId": "0ad67314-f550-4b40-a498-f0b6076e5f9d"
      },
      "execution_count": 5,
      "outputs": [
        {
          "output_type": "execute_result",
          "data": {
            "text/plain": [
              "    age  affordibility\n",
              "0    22              1\n",
              "13   29              0\n",
              "6    55              0\n",
              "17   58              1\n",
              "24   50              1\n",
              "19   18              1\n",
              "25   54              1\n",
              "16   25              0\n",
              "20   21              1\n",
              "3    52              0\n",
              "7    60              0\n",
              "1    25              0\n",
              "5    56              1\n",
              "27   46              1\n",
              "8    62              1\n",
              "18   19              0\n",
              "12   27              0\n",
              "23   45              1\n",
              "22   40              1\n",
              "15   55              1\n",
              "26   23              1\n",
              "4    46              1"
            ],
            "text/html": [
              "\n",
              "  <div id=\"df-5988d163-e5d5-41d4-9ca5-97c789c7022c\">\n",
              "    <div class=\"colab-df-container\">\n",
              "      <div>\n",
              "<style scoped>\n",
              "    .dataframe tbody tr th:only-of-type {\n",
              "        vertical-align: middle;\n",
              "    }\n",
              "\n",
              "    .dataframe tbody tr th {\n",
              "        vertical-align: top;\n",
              "    }\n",
              "\n",
              "    .dataframe thead th {\n",
              "        text-align: right;\n",
              "    }\n",
              "</style>\n",
              "<table border=\"1\" class=\"dataframe\">\n",
              "  <thead>\n",
              "    <tr style=\"text-align: right;\">\n",
              "      <th></th>\n",
              "      <th>age</th>\n",
              "      <th>affordibility</th>\n",
              "    </tr>\n",
              "  </thead>\n",
              "  <tbody>\n",
              "    <tr>\n",
              "      <th>0</th>\n",
              "      <td>22</td>\n",
              "      <td>1</td>\n",
              "    </tr>\n",
              "    <tr>\n",
              "      <th>13</th>\n",
              "      <td>29</td>\n",
              "      <td>0</td>\n",
              "    </tr>\n",
              "    <tr>\n",
              "      <th>6</th>\n",
              "      <td>55</td>\n",
              "      <td>0</td>\n",
              "    </tr>\n",
              "    <tr>\n",
              "      <th>17</th>\n",
              "      <td>58</td>\n",
              "      <td>1</td>\n",
              "    </tr>\n",
              "    <tr>\n",
              "      <th>24</th>\n",
              "      <td>50</td>\n",
              "      <td>1</td>\n",
              "    </tr>\n",
              "    <tr>\n",
              "      <th>19</th>\n",
              "      <td>18</td>\n",
              "      <td>1</td>\n",
              "    </tr>\n",
              "    <tr>\n",
              "      <th>25</th>\n",
              "      <td>54</td>\n",
              "      <td>1</td>\n",
              "    </tr>\n",
              "    <tr>\n",
              "      <th>16</th>\n",
              "      <td>25</td>\n",
              "      <td>0</td>\n",
              "    </tr>\n",
              "    <tr>\n",
              "      <th>20</th>\n",
              "      <td>21</td>\n",
              "      <td>1</td>\n",
              "    </tr>\n",
              "    <tr>\n",
              "      <th>3</th>\n",
              "      <td>52</td>\n",
              "      <td>0</td>\n",
              "    </tr>\n",
              "    <tr>\n",
              "      <th>7</th>\n",
              "      <td>60</td>\n",
              "      <td>0</td>\n",
              "    </tr>\n",
              "    <tr>\n",
              "      <th>1</th>\n",
              "      <td>25</td>\n",
              "      <td>0</td>\n",
              "    </tr>\n",
              "    <tr>\n",
              "      <th>5</th>\n",
              "      <td>56</td>\n",
              "      <td>1</td>\n",
              "    </tr>\n",
              "    <tr>\n",
              "      <th>27</th>\n",
              "      <td>46</td>\n",
              "      <td>1</td>\n",
              "    </tr>\n",
              "    <tr>\n",
              "      <th>8</th>\n",
              "      <td>62</td>\n",
              "      <td>1</td>\n",
              "    </tr>\n",
              "    <tr>\n",
              "      <th>18</th>\n",
              "      <td>19</td>\n",
              "      <td>0</td>\n",
              "    </tr>\n",
              "    <tr>\n",
              "      <th>12</th>\n",
              "      <td>27</td>\n",
              "      <td>0</td>\n",
              "    </tr>\n",
              "    <tr>\n",
              "      <th>23</th>\n",
              "      <td>45</td>\n",
              "      <td>1</td>\n",
              "    </tr>\n",
              "    <tr>\n",
              "      <th>22</th>\n",
              "      <td>40</td>\n",
              "      <td>1</td>\n",
              "    </tr>\n",
              "    <tr>\n",
              "      <th>15</th>\n",
              "      <td>55</td>\n",
              "      <td>1</td>\n",
              "    </tr>\n",
              "    <tr>\n",
              "      <th>26</th>\n",
              "      <td>23</td>\n",
              "      <td>1</td>\n",
              "    </tr>\n",
              "    <tr>\n",
              "      <th>4</th>\n",
              "      <td>46</td>\n",
              "      <td>1</td>\n",
              "    </tr>\n",
              "  </tbody>\n",
              "</table>\n",
              "</div>\n",
              "      <button class=\"colab-df-convert\" onclick=\"convertToInteractive('df-5988d163-e5d5-41d4-9ca5-97c789c7022c')\"\n",
              "              title=\"Convert this dataframe to an interactive table.\"\n",
              "              style=\"display:none;\">\n",
              "        \n",
              "  <svg xmlns=\"http://www.w3.org/2000/svg\" height=\"24px\"viewBox=\"0 0 24 24\"\n",
              "       width=\"24px\">\n",
              "    <path d=\"M0 0h24v24H0V0z\" fill=\"none\"/>\n",
              "    <path d=\"M18.56 5.44l.94 2.06.94-2.06 2.06-.94-2.06-.94-.94-2.06-.94 2.06-2.06.94zm-11 1L8.5 8.5l.94-2.06 2.06-.94-2.06-.94L8.5 2.5l-.94 2.06-2.06.94zm10 10l.94 2.06.94-2.06 2.06-.94-2.06-.94-.94-2.06-.94 2.06-2.06.94z\"/><path d=\"M17.41 7.96l-1.37-1.37c-.4-.4-.92-.59-1.43-.59-.52 0-1.04.2-1.43.59L10.3 9.45l-7.72 7.72c-.78.78-.78 2.05 0 2.83L4 21.41c.39.39.9.59 1.41.59.51 0 1.02-.2 1.41-.59l7.78-7.78 2.81-2.81c.8-.78.8-2.07 0-2.86zM5.41 20L4 18.59l7.72-7.72 1.47 1.35L5.41 20z\"/>\n",
              "  </svg>\n",
              "      </button>\n",
              "      \n",
              "  <style>\n",
              "    .colab-df-container {\n",
              "      display:flex;\n",
              "      flex-wrap:wrap;\n",
              "      gap: 12px;\n",
              "    }\n",
              "\n",
              "    .colab-df-convert {\n",
              "      background-color: #E8F0FE;\n",
              "      border: none;\n",
              "      border-radius: 50%;\n",
              "      cursor: pointer;\n",
              "      display: none;\n",
              "      fill: #1967D2;\n",
              "      height: 32px;\n",
              "      padding: 0 0 0 0;\n",
              "      width: 32px;\n",
              "    }\n",
              "\n",
              "    .colab-df-convert:hover {\n",
              "      background-color: #E2EBFA;\n",
              "      box-shadow: 0px 1px 2px rgba(60, 64, 67, 0.3), 0px 1px 3px 1px rgba(60, 64, 67, 0.15);\n",
              "      fill: #174EA6;\n",
              "    }\n",
              "\n",
              "    [theme=dark] .colab-df-convert {\n",
              "      background-color: #3B4455;\n",
              "      fill: #D2E3FC;\n",
              "    }\n",
              "\n",
              "    [theme=dark] .colab-df-convert:hover {\n",
              "      background-color: #434B5C;\n",
              "      box-shadow: 0px 1px 3px 1px rgba(0, 0, 0, 0.15);\n",
              "      filter: drop-shadow(0px 1px 2px rgba(0, 0, 0, 0.3));\n",
              "      fill: #FFFFFF;\n",
              "    }\n",
              "  </style>\n",
              "\n",
              "      <script>\n",
              "        const buttonEl =\n",
              "          document.querySelector('#df-5988d163-e5d5-41d4-9ca5-97c789c7022c button.colab-df-convert');\n",
              "        buttonEl.style.display =\n",
              "          google.colab.kernel.accessAllowed ? 'block' : 'none';\n",
              "\n",
              "        async function convertToInteractive(key) {\n",
              "          const element = document.querySelector('#df-5988d163-e5d5-41d4-9ca5-97c789c7022c');\n",
              "          const dataTable =\n",
              "            await google.colab.kernel.invokeFunction('convertToInteractive',\n",
              "                                                     [key], {});\n",
              "          if (!dataTable) return;\n",
              "\n",
              "          const docLinkHtml = 'Like what you see? Visit the ' +\n",
              "            '<a target=\"_blank\" href=https://colab.research.google.com/notebooks/data_table.ipynb>data table notebook</a>'\n",
              "            + ' to learn more about interactive tables.';\n",
              "          element.innerHTML = '';\n",
              "          dataTable['output_type'] = 'display_data';\n",
              "          await google.colab.output.renderOutput(dataTable, element);\n",
              "          const docLink = document.createElement('div');\n",
              "          docLink.innerHTML = docLinkHtml;\n",
              "          element.appendChild(docLink);\n",
              "        }\n",
              "      </script>\n",
              "    </div>\n",
              "  </div>\n",
              "  "
            ]
          },
          "metadata": {},
          "execution_count": 5
        }
      ]
    },
    {
      "cell_type": "code",
      "source": [
        "len(X_train)"
      ],
      "metadata": {
        "colab": {
          "base_uri": "https://localhost:8080/"
        },
        "id": "tiXgls2BZXNR",
        "outputId": "e53a03ba-0530-47e6-c50c-fb13af26ecd0"
      },
      "execution_count": 6,
      "outputs": [
        {
          "output_type": "execute_result",
          "data": {
            "text/plain": [
              "22"
            ]
          },
          "metadata": {},
          "execution_count": 6
        }
      ]
    },
    {
      "cell_type": "code",
      "source": [
        "X_train_scaled = X_train.copy()\n",
        "X_train_scaled['age'] = X_train_scaled['age'] / 100\n",
        "\n",
        "X_test_scaled = X_test.copy()\n",
        "X_test_scaled['age'] = X_test_scaled['age']/100"
      ],
      "metadata": {
        "id": "ThNHSV0Wbkyg"
      },
      "execution_count": 7,
      "outputs": []
    },
    {
      "cell_type": "code",
      "source": [
        "X_train_scaled"
      ],
      "metadata": {
        "colab": {
          "base_uri": "https://localhost:8080/",
          "height": 739
        },
        "id": "b7kn65GjcHfP",
        "outputId": "f32a87bd-b565-49a7-92e1-a9f9208c061a"
      },
      "execution_count": 8,
      "outputs": [
        {
          "output_type": "execute_result",
          "data": {
            "text/plain": [
              "     age  affordibility\n",
              "0   0.22              1\n",
              "13  0.29              0\n",
              "6   0.55              0\n",
              "17  0.58              1\n",
              "24  0.50              1\n",
              "19  0.18              1\n",
              "25  0.54              1\n",
              "16  0.25              0\n",
              "20  0.21              1\n",
              "3   0.52              0\n",
              "7   0.60              0\n",
              "1   0.25              0\n",
              "5   0.56              1\n",
              "27  0.46              1\n",
              "8   0.62              1\n",
              "18  0.19              0\n",
              "12  0.27              0\n",
              "23  0.45              1\n",
              "22  0.40              1\n",
              "15  0.55              1\n",
              "26  0.23              1\n",
              "4   0.46              1"
            ],
            "text/html": [
              "\n",
              "  <div id=\"df-b5abc91f-ab59-461d-b908-fde775089b64\">\n",
              "    <div class=\"colab-df-container\">\n",
              "      <div>\n",
              "<style scoped>\n",
              "    .dataframe tbody tr th:only-of-type {\n",
              "        vertical-align: middle;\n",
              "    }\n",
              "\n",
              "    .dataframe tbody tr th {\n",
              "        vertical-align: top;\n",
              "    }\n",
              "\n",
              "    .dataframe thead th {\n",
              "        text-align: right;\n",
              "    }\n",
              "</style>\n",
              "<table border=\"1\" class=\"dataframe\">\n",
              "  <thead>\n",
              "    <tr style=\"text-align: right;\">\n",
              "      <th></th>\n",
              "      <th>age</th>\n",
              "      <th>affordibility</th>\n",
              "    </tr>\n",
              "  </thead>\n",
              "  <tbody>\n",
              "    <tr>\n",
              "      <th>0</th>\n",
              "      <td>0.22</td>\n",
              "      <td>1</td>\n",
              "    </tr>\n",
              "    <tr>\n",
              "      <th>13</th>\n",
              "      <td>0.29</td>\n",
              "      <td>0</td>\n",
              "    </tr>\n",
              "    <tr>\n",
              "      <th>6</th>\n",
              "      <td>0.55</td>\n",
              "      <td>0</td>\n",
              "    </tr>\n",
              "    <tr>\n",
              "      <th>17</th>\n",
              "      <td>0.58</td>\n",
              "      <td>1</td>\n",
              "    </tr>\n",
              "    <tr>\n",
              "      <th>24</th>\n",
              "      <td>0.50</td>\n",
              "      <td>1</td>\n",
              "    </tr>\n",
              "    <tr>\n",
              "      <th>19</th>\n",
              "      <td>0.18</td>\n",
              "      <td>1</td>\n",
              "    </tr>\n",
              "    <tr>\n",
              "      <th>25</th>\n",
              "      <td>0.54</td>\n",
              "      <td>1</td>\n",
              "    </tr>\n",
              "    <tr>\n",
              "      <th>16</th>\n",
              "      <td>0.25</td>\n",
              "      <td>0</td>\n",
              "    </tr>\n",
              "    <tr>\n",
              "      <th>20</th>\n",
              "      <td>0.21</td>\n",
              "      <td>1</td>\n",
              "    </tr>\n",
              "    <tr>\n",
              "      <th>3</th>\n",
              "      <td>0.52</td>\n",
              "      <td>0</td>\n",
              "    </tr>\n",
              "    <tr>\n",
              "      <th>7</th>\n",
              "      <td>0.60</td>\n",
              "      <td>0</td>\n",
              "    </tr>\n",
              "    <tr>\n",
              "      <th>1</th>\n",
              "      <td>0.25</td>\n",
              "      <td>0</td>\n",
              "    </tr>\n",
              "    <tr>\n",
              "      <th>5</th>\n",
              "      <td>0.56</td>\n",
              "      <td>1</td>\n",
              "    </tr>\n",
              "    <tr>\n",
              "      <th>27</th>\n",
              "      <td>0.46</td>\n",
              "      <td>1</td>\n",
              "    </tr>\n",
              "    <tr>\n",
              "      <th>8</th>\n",
              "      <td>0.62</td>\n",
              "      <td>1</td>\n",
              "    </tr>\n",
              "    <tr>\n",
              "      <th>18</th>\n",
              "      <td>0.19</td>\n",
              "      <td>0</td>\n",
              "    </tr>\n",
              "    <tr>\n",
              "      <th>12</th>\n",
              "      <td>0.27</td>\n",
              "      <td>0</td>\n",
              "    </tr>\n",
              "    <tr>\n",
              "      <th>23</th>\n",
              "      <td>0.45</td>\n",
              "      <td>1</td>\n",
              "    </tr>\n",
              "    <tr>\n",
              "      <th>22</th>\n",
              "      <td>0.40</td>\n",
              "      <td>1</td>\n",
              "    </tr>\n",
              "    <tr>\n",
              "      <th>15</th>\n",
              "      <td>0.55</td>\n",
              "      <td>1</td>\n",
              "    </tr>\n",
              "    <tr>\n",
              "      <th>26</th>\n",
              "      <td>0.23</td>\n",
              "      <td>1</td>\n",
              "    </tr>\n",
              "    <tr>\n",
              "      <th>4</th>\n",
              "      <td>0.46</td>\n",
              "      <td>1</td>\n",
              "    </tr>\n",
              "  </tbody>\n",
              "</table>\n",
              "</div>\n",
              "      <button class=\"colab-df-convert\" onclick=\"convertToInteractive('df-b5abc91f-ab59-461d-b908-fde775089b64')\"\n",
              "              title=\"Convert this dataframe to an interactive table.\"\n",
              "              style=\"display:none;\">\n",
              "        \n",
              "  <svg xmlns=\"http://www.w3.org/2000/svg\" height=\"24px\"viewBox=\"0 0 24 24\"\n",
              "       width=\"24px\">\n",
              "    <path d=\"M0 0h24v24H0V0z\" fill=\"none\"/>\n",
              "    <path d=\"M18.56 5.44l.94 2.06.94-2.06 2.06-.94-2.06-.94-.94-2.06-.94 2.06-2.06.94zm-11 1L8.5 8.5l.94-2.06 2.06-.94-2.06-.94L8.5 2.5l-.94 2.06-2.06.94zm10 10l.94 2.06.94-2.06 2.06-.94-2.06-.94-.94-2.06-.94 2.06-2.06.94z\"/><path d=\"M17.41 7.96l-1.37-1.37c-.4-.4-.92-.59-1.43-.59-.52 0-1.04.2-1.43.59L10.3 9.45l-7.72 7.72c-.78.78-.78 2.05 0 2.83L4 21.41c.39.39.9.59 1.41.59.51 0 1.02-.2 1.41-.59l7.78-7.78 2.81-2.81c.8-.78.8-2.07 0-2.86zM5.41 20L4 18.59l7.72-7.72 1.47 1.35L5.41 20z\"/>\n",
              "  </svg>\n",
              "      </button>\n",
              "      \n",
              "  <style>\n",
              "    .colab-df-container {\n",
              "      display:flex;\n",
              "      flex-wrap:wrap;\n",
              "      gap: 12px;\n",
              "    }\n",
              "\n",
              "    .colab-df-convert {\n",
              "      background-color: #E8F0FE;\n",
              "      border: none;\n",
              "      border-radius: 50%;\n",
              "      cursor: pointer;\n",
              "      display: none;\n",
              "      fill: #1967D2;\n",
              "      height: 32px;\n",
              "      padding: 0 0 0 0;\n",
              "      width: 32px;\n",
              "    }\n",
              "\n",
              "    .colab-df-convert:hover {\n",
              "      background-color: #E2EBFA;\n",
              "      box-shadow: 0px 1px 2px rgba(60, 64, 67, 0.3), 0px 1px 3px 1px rgba(60, 64, 67, 0.15);\n",
              "      fill: #174EA6;\n",
              "    }\n",
              "\n",
              "    [theme=dark] .colab-df-convert {\n",
              "      background-color: #3B4455;\n",
              "      fill: #D2E3FC;\n",
              "    }\n",
              "\n",
              "    [theme=dark] .colab-df-convert:hover {\n",
              "      background-color: #434B5C;\n",
              "      box-shadow: 0px 1px 3px 1px rgba(0, 0, 0, 0.15);\n",
              "      filter: drop-shadow(0px 1px 2px rgba(0, 0, 0, 0.3));\n",
              "      fill: #FFFFFF;\n",
              "    }\n",
              "  </style>\n",
              "\n",
              "      <script>\n",
              "        const buttonEl =\n",
              "          document.querySelector('#df-b5abc91f-ab59-461d-b908-fde775089b64 button.colab-df-convert');\n",
              "        buttonEl.style.display =\n",
              "          google.colab.kernel.accessAllowed ? 'block' : 'none';\n",
              "\n",
              "        async function convertToInteractive(key) {\n",
              "          const element = document.querySelector('#df-b5abc91f-ab59-461d-b908-fde775089b64');\n",
              "          const dataTable =\n",
              "            await google.colab.kernel.invokeFunction('convertToInteractive',\n",
              "                                                     [key], {});\n",
              "          if (!dataTable) return;\n",
              "\n",
              "          const docLinkHtml = 'Like what you see? Visit the ' +\n",
              "            '<a target=\"_blank\" href=https://colab.research.google.com/notebooks/data_table.ipynb>data table notebook</a>'\n",
              "            + ' to learn more about interactive tables.';\n",
              "          element.innerHTML = '';\n",
              "          dataTable['output_type'] = 'display_data';\n",
              "          await google.colab.output.renderOutput(dataTable, element);\n",
              "          const docLink = document.createElement('div');\n",
              "          docLink.innerHTML = docLinkHtml;\n",
              "          element.appendChild(docLink);\n",
              "        }\n",
              "      </script>\n",
              "    </div>\n",
              "  </div>\n",
              "  "
            ]
          },
          "metadata": {},
          "execution_count": 8
        }
      ]
    },
    {
      "cell_type": "code",
      "source": [
        "X_test_scaled"
      ],
      "metadata": {
        "colab": {
          "base_uri": "https://localhost:8080/",
          "height": 237
        },
        "id": "evtiFO5Hcgh3",
        "outputId": "59b847e1-598d-418d-85b1-cbebfa5f52e3"
      },
      "execution_count": 9,
      "outputs": [
        {
          "output_type": "execute_result",
          "data": {
            "text/plain": [
              "     age  affordibility\n",
              "2   0.47              1\n",
              "10  0.18              1\n",
              "21  0.26              0\n",
              "11  0.28              1\n",
              "14  0.49              1\n",
              "9   0.61              1"
            ],
            "text/html": [
              "\n",
              "  <div id=\"df-29a99940-4a49-4578-94ca-a18c78b70651\">\n",
              "    <div class=\"colab-df-container\">\n",
              "      <div>\n",
              "<style scoped>\n",
              "    .dataframe tbody tr th:only-of-type {\n",
              "        vertical-align: middle;\n",
              "    }\n",
              "\n",
              "    .dataframe tbody tr th {\n",
              "        vertical-align: top;\n",
              "    }\n",
              "\n",
              "    .dataframe thead th {\n",
              "        text-align: right;\n",
              "    }\n",
              "</style>\n",
              "<table border=\"1\" class=\"dataframe\">\n",
              "  <thead>\n",
              "    <tr style=\"text-align: right;\">\n",
              "      <th></th>\n",
              "      <th>age</th>\n",
              "      <th>affordibility</th>\n",
              "    </tr>\n",
              "  </thead>\n",
              "  <tbody>\n",
              "    <tr>\n",
              "      <th>2</th>\n",
              "      <td>0.47</td>\n",
              "      <td>1</td>\n",
              "    </tr>\n",
              "    <tr>\n",
              "      <th>10</th>\n",
              "      <td>0.18</td>\n",
              "      <td>1</td>\n",
              "    </tr>\n",
              "    <tr>\n",
              "      <th>21</th>\n",
              "      <td>0.26</td>\n",
              "      <td>0</td>\n",
              "    </tr>\n",
              "    <tr>\n",
              "      <th>11</th>\n",
              "      <td>0.28</td>\n",
              "      <td>1</td>\n",
              "    </tr>\n",
              "    <tr>\n",
              "      <th>14</th>\n",
              "      <td>0.49</td>\n",
              "      <td>1</td>\n",
              "    </tr>\n",
              "    <tr>\n",
              "      <th>9</th>\n",
              "      <td>0.61</td>\n",
              "      <td>1</td>\n",
              "    </tr>\n",
              "  </tbody>\n",
              "</table>\n",
              "</div>\n",
              "      <button class=\"colab-df-convert\" onclick=\"convertToInteractive('df-29a99940-4a49-4578-94ca-a18c78b70651')\"\n",
              "              title=\"Convert this dataframe to an interactive table.\"\n",
              "              style=\"display:none;\">\n",
              "        \n",
              "  <svg xmlns=\"http://www.w3.org/2000/svg\" height=\"24px\"viewBox=\"0 0 24 24\"\n",
              "       width=\"24px\">\n",
              "    <path d=\"M0 0h24v24H0V0z\" fill=\"none\"/>\n",
              "    <path d=\"M18.56 5.44l.94 2.06.94-2.06 2.06-.94-2.06-.94-.94-2.06-.94 2.06-2.06.94zm-11 1L8.5 8.5l.94-2.06 2.06-.94-2.06-.94L8.5 2.5l-.94 2.06-2.06.94zm10 10l.94 2.06.94-2.06 2.06-.94-2.06-.94-.94-2.06-.94 2.06-2.06.94z\"/><path d=\"M17.41 7.96l-1.37-1.37c-.4-.4-.92-.59-1.43-.59-.52 0-1.04.2-1.43.59L10.3 9.45l-7.72 7.72c-.78.78-.78 2.05 0 2.83L4 21.41c.39.39.9.59 1.41.59.51 0 1.02-.2 1.41-.59l7.78-7.78 2.81-2.81c.8-.78.8-2.07 0-2.86zM5.41 20L4 18.59l7.72-7.72 1.47 1.35L5.41 20z\"/>\n",
              "  </svg>\n",
              "      </button>\n",
              "      \n",
              "  <style>\n",
              "    .colab-df-container {\n",
              "      display:flex;\n",
              "      flex-wrap:wrap;\n",
              "      gap: 12px;\n",
              "    }\n",
              "\n",
              "    .colab-df-convert {\n",
              "      background-color: #E8F0FE;\n",
              "      border: none;\n",
              "      border-radius: 50%;\n",
              "      cursor: pointer;\n",
              "      display: none;\n",
              "      fill: #1967D2;\n",
              "      height: 32px;\n",
              "      padding: 0 0 0 0;\n",
              "      width: 32px;\n",
              "    }\n",
              "\n",
              "    .colab-df-convert:hover {\n",
              "      background-color: #E2EBFA;\n",
              "      box-shadow: 0px 1px 2px rgba(60, 64, 67, 0.3), 0px 1px 3px 1px rgba(60, 64, 67, 0.15);\n",
              "      fill: #174EA6;\n",
              "    }\n",
              "\n",
              "    [theme=dark] .colab-df-convert {\n",
              "      background-color: #3B4455;\n",
              "      fill: #D2E3FC;\n",
              "    }\n",
              "\n",
              "    [theme=dark] .colab-df-convert:hover {\n",
              "      background-color: #434B5C;\n",
              "      box-shadow: 0px 1px 3px 1px rgba(0, 0, 0, 0.15);\n",
              "      filter: drop-shadow(0px 1px 2px rgba(0, 0, 0, 0.3));\n",
              "      fill: #FFFFFF;\n",
              "    }\n",
              "  </style>\n",
              "\n",
              "      <script>\n",
              "        const buttonEl =\n",
              "          document.querySelector('#df-29a99940-4a49-4578-94ca-a18c78b70651 button.colab-df-convert');\n",
              "        buttonEl.style.display =\n",
              "          google.colab.kernel.accessAllowed ? 'block' : 'none';\n",
              "\n",
              "        async function convertToInteractive(key) {\n",
              "          const element = document.querySelector('#df-29a99940-4a49-4578-94ca-a18c78b70651');\n",
              "          const dataTable =\n",
              "            await google.colab.kernel.invokeFunction('convertToInteractive',\n",
              "                                                     [key], {});\n",
              "          if (!dataTable) return;\n",
              "\n",
              "          const docLinkHtml = 'Like what you see? Visit the ' +\n",
              "            '<a target=\"_blank\" href=https://colab.research.google.com/notebooks/data_table.ipynb>data table notebook</a>'\n",
              "            + ' to learn more about interactive tables.';\n",
              "          element.innerHTML = '';\n",
              "          dataTable['output_type'] = 'display_data';\n",
              "          await google.colab.output.renderOutput(dataTable, element);\n",
              "          const docLink = document.createElement('div');\n",
              "          docLink.innerHTML = docLinkHtml;\n",
              "          element.appendChild(docLink);\n",
              "        }\n",
              "      </script>\n",
              "    </div>\n",
              "  </div>\n",
              "  "
            ]
          },
          "metadata": {},
          "execution_count": 9
        }
      ]
    },
    {
      "cell_type": "code",
      "source": [
        "model = keras.Sequential([\n",
        "    layers.Dense(1, input_shape=(2,), activation='sigmoid', kernel_initializer='ones', bias_initializer='zeros')\n",
        "])\n",
        "\n",
        "model.compile(optimizer='adam',\n",
        "              loss='binary_crossentropy',\n",
        "              metrics=['accuracy'])\n",
        "model.fit(X_train_scaled, y_train, epochs=5000)"
      ],
      "metadata": {
        "id": "8LvGtC8fnNMz"
      },
      "execution_count": null,
      "outputs": []
    },
    {
      "cell_type": "code",
      "source": [
        "model.evaluate(X_test_scaled, y_test)"
      ],
      "metadata": {
        "id": "NT4erEQ0oudI",
        "outputId": "dc7776a1-3494-48f6-95a9-16fd383bdc06",
        "colab": {
          "base_uri": "https://localhost:8080/"
        }
      },
      "execution_count": 11,
      "outputs": [
        {
          "output_type": "stream",
          "name": "stdout",
          "text": [
            "1/1 [==============================] - 0s 169ms/step - loss: 0.3550 - accuracy: 1.0000\n"
          ]
        },
        {
          "output_type": "execute_result",
          "data": {
            "text/plain": [
              "[0.35497748851776123, 1.0]"
            ]
          },
          "metadata": {},
          "execution_count": 11
        }
      ]
    },
    {
      "cell_type": "code",
      "source": [
        "X_test_scaled"
      ],
      "metadata": {
        "id": "N0EFRZxRo25L",
        "outputId": "7e1549a6-233b-44b4-d4b8-15342a5fad96",
        "colab": {
          "base_uri": "https://localhost:8080/",
          "height": 237
        }
      },
      "execution_count": 12,
      "outputs": [
        {
          "output_type": "execute_result",
          "data": {
            "text/plain": [
              "     age  affordibility\n",
              "2   0.47              1\n",
              "10  0.18              1\n",
              "21  0.26              0\n",
              "11  0.28              1\n",
              "14  0.49              1\n",
              "9   0.61              1"
            ],
            "text/html": [
              "\n",
              "  <div id=\"df-113d7f2b-dc2f-4b84-bfc7-9177d0150390\">\n",
              "    <div class=\"colab-df-container\">\n",
              "      <div>\n",
              "<style scoped>\n",
              "    .dataframe tbody tr th:only-of-type {\n",
              "        vertical-align: middle;\n",
              "    }\n",
              "\n",
              "    .dataframe tbody tr th {\n",
              "        vertical-align: top;\n",
              "    }\n",
              "\n",
              "    .dataframe thead th {\n",
              "        text-align: right;\n",
              "    }\n",
              "</style>\n",
              "<table border=\"1\" class=\"dataframe\">\n",
              "  <thead>\n",
              "    <tr style=\"text-align: right;\">\n",
              "      <th></th>\n",
              "      <th>age</th>\n",
              "      <th>affordibility</th>\n",
              "    </tr>\n",
              "  </thead>\n",
              "  <tbody>\n",
              "    <tr>\n",
              "      <th>2</th>\n",
              "      <td>0.47</td>\n",
              "      <td>1</td>\n",
              "    </tr>\n",
              "    <tr>\n",
              "      <th>10</th>\n",
              "      <td>0.18</td>\n",
              "      <td>1</td>\n",
              "    </tr>\n",
              "    <tr>\n",
              "      <th>21</th>\n",
              "      <td>0.26</td>\n",
              "      <td>0</td>\n",
              "    </tr>\n",
              "    <tr>\n",
              "      <th>11</th>\n",
              "      <td>0.28</td>\n",
              "      <td>1</td>\n",
              "    </tr>\n",
              "    <tr>\n",
              "      <th>14</th>\n",
              "      <td>0.49</td>\n",
              "      <td>1</td>\n",
              "    </tr>\n",
              "    <tr>\n",
              "      <th>9</th>\n",
              "      <td>0.61</td>\n",
              "      <td>1</td>\n",
              "    </tr>\n",
              "  </tbody>\n",
              "</table>\n",
              "</div>\n",
              "      <button class=\"colab-df-convert\" onclick=\"convertToInteractive('df-113d7f2b-dc2f-4b84-bfc7-9177d0150390')\"\n",
              "              title=\"Convert this dataframe to an interactive table.\"\n",
              "              style=\"display:none;\">\n",
              "        \n",
              "  <svg xmlns=\"http://www.w3.org/2000/svg\" height=\"24px\"viewBox=\"0 0 24 24\"\n",
              "       width=\"24px\">\n",
              "    <path d=\"M0 0h24v24H0V0z\" fill=\"none\"/>\n",
              "    <path d=\"M18.56 5.44l.94 2.06.94-2.06 2.06-.94-2.06-.94-.94-2.06-.94 2.06-2.06.94zm-11 1L8.5 8.5l.94-2.06 2.06-.94-2.06-.94L8.5 2.5l-.94 2.06-2.06.94zm10 10l.94 2.06.94-2.06 2.06-.94-2.06-.94-.94-2.06-.94 2.06-2.06.94z\"/><path d=\"M17.41 7.96l-1.37-1.37c-.4-.4-.92-.59-1.43-.59-.52 0-1.04.2-1.43.59L10.3 9.45l-7.72 7.72c-.78.78-.78 2.05 0 2.83L4 21.41c.39.39.9.59 1.41.59.51 0 1.02-.2 1.41-.59l7.78-7.78 2.81-2.81c.8-.78.8-2.07 0-2.86zM5.41 20L4 18.59l7.72-7.72 1.47 1.35L5.41 20z\"/>\n",
              "  </svg>\n",
              "      </button>\n",
              "      \n",
              "  <style>\n",
              "    .colab-df-container {\n",
              "      display:flex;\n",
              "      flex-wrap:wrap;\n",
              "      gap: 12px;\n",
              "    }\n",
              "\n",
              "    .colab-df-convert {\n",
              "      background-color: #E8F0FE;\n",
              "      border: none;\n",
              "      border-radius: 50%;\n",
              "      cursor: pointer;\n",
              "      display: none;\n",
              "      fill: #1967D2;\n",
              "      height: 32px;\n",
              "      padding: 0 0 0 0;\n",
              "      width: 32px;\n",
              "    }\n",
              "\n",
              "    .colab-df-convert:hover {\n",
              "      background-color: #E2EBFA;\n",
              "      box-shadow: 0px 1px 2px rgba(60, 64, 67, 0.3), 0px 1px 3px 1px rgba(60, 64, 67, 0.15);\n",
              "      fill: #174EA6;\n",
              "    }\n",
              "\n",
              "    [theme=dark] .colab-df-convert {\n",
              "      background-color: #3B4455;\n",
              "      fill: #D2E3FC;\n",
              "    }\n",
              "\n",
              "    [theme=dark] .colab-df-convert:hover {\n",
              "      background-color: #434B5C;\n",
              "      box-shadow: 0px 1px 3px 1px rgba(0, 0, 0, 0.15);\n",
              "      filter: drop-shadow(0px 1px 2px rgba(0, 0, 0, 0.3));\n",
              "      fill: #FFFFFF;\n",
              "    }\n",
              "  </style>\n",
              "\n",
              "      <script>\n",
              "        const buttonEl =\n",
              "          document.querySelector('#df-113d7f2b-dc2f-4b84-bfc7-9177d0150390 button.colab-df-convert');\n",
              "        buttonEl.style.display =\n",
              "          google.colab.kernel.accessAllowed ? 'block' : 'none';\n",
              "\n",
              "        async function convertToInteractive(key) {\n",
              "          const element = document.querySelector('#df-113d7f2b-dc2f-4b84-bfc7-9177d0150390');\n",
              "          const dataTable =\n",
              "            await google.colab.kernel.invokeFunction('convertToInteractive',\n",
              "                                                     [key], {});\n",
              "          if (!dataTable) return;\n",
              "\n",
              "          const docLinkHtml = 'Like what you see? Visit the ' +\n",
              "            '<a target=\"_blank\" href=https://colab.research.google.com/notebooks/data_table.ipynb>data table notebook</a>'\n",
              "            + ' to learn more about interactive tables.';\n",
              "          element.innerHTML = '';\n",
              "          dataTable['output_type'] = 'display_data';\n",
              "          await google.colab.output.renderOutput(dataTable, element);\n",
              "          const docLink = document.createElement('div');\n",
              "          docLink.innerHTML = docLinkHtml;\n",
              "          element.appendChild(docLink);\n",
              "        }\n",
              "      </script>\n",
              "    </div>\n",
              "  </div>\n",
              "  "
            ]
          },
          "metadata": {},
          "execution_count": 12
        }
      ]
    },
    {
      "cell_type": "code",
      "source": [
        "model.predict(X_test_scaled)"
      ],
      "metadata": {
        "id": "FoZHHwxbo7Xz",
        "outputId": "718db826-42ed-4a53-a837-91a20189a418",
        "colab": {
          "base_uri": "https://localhost:8080/"
        }
      },
      "execution_count": 13,
      "outputs": [
        {
          "output_type": "execute_result",
          "data": {
            "text/plain": [
              "array([[0.7054848 ],\n",
              "       [0.35569546],\n",
              "       [0.16827849],\n",
              "       [0.47801176],\n",
              "       [0.7260697 ],\n",
              "       [0.8294984 ]], dtype=float32)"
            ]
          },
          "metadata": {},
          "execution_count": 13
        }
      ]
    },
    {
      "cell_type": "code",
      "source": [
        "coef, intercept = model.get_weights()\n",
        "coef, intercept"
      ],
      "metadata": {
        "id": "xZMRC6fYpne7",
        "outputId": "a08317eb-fa15-44fe-ac6f-548f2949c18e",
        "colab": {
          "base_uri": "https://localhost:8080/"
        }
      },
      "execution_count": 14,
      "outputs": [
        {
          "output_type": "execute_result",
          "data": {
            "text/plain": [
              "(array([[5.060868],\n",
              "        [1.40865 ]], dtype=float32), array([-2.913703], dtype=float32))"
            ]
          },
          "metadata": {},
          "execution_count": 14
        }
      ]
    },
    {
      "cell_type": "code",
      "source": [
        "def sigmoid(x):\n",
        "  import math\n",
        "  return 1/(1+math.exp(-x))\n",
        "sigmoid(18)"
      ],
      "metadata": {
        "id": "PcezQK857EKn",
        "outputId": "0275d962-c000-4760-bfe5-3c7dc8fbcbce",
        "colab": {
          "base_uri": "https://localhost:8080/"
        }
      },
      "execution_count": 15,
      "outputs": [
        {
          "output_type": "execute_result",
          "data": {
            "text/plain": [
              "0.9999999847700205"
            ]
          },
          "metadata": {},
          "execution_count": 15
        }
      ]
    },
    {
      "cell_type": "code",
      "source": [
        "def prediction_function(age, affordibility):\n",
        "  weighted_sum = coef[0]*age + coef[1]*affordibility + intercept[0]\n",
        "  return sigmoid(weighted_sum)"
      ],
      "metadata": {
        "id": "HrxFaeKs-hsN"
      },
      "execution_count": 16,
      "outputs": []
    },
    {
      "cell_type": "code",
      "source": [
        "prediction_function(0.47, 1)"
      ],
      "metadata": {
        "id": "qQbPSyl-_LPV",
        "outputId": "8ae1f84b-b287-4482-a538-d7f1824b5120",
        "colab": {
          "base_uri": "https://localhost:8080/"
        }
      },
      "execution_count": 17,
      "outputs": [
        {
          "output_type": "execute_result",
          "data": {
            "text/plain": [
              "0.705484819775958"
            ]
          },
          "metadata": {},
          "execution_count": 17
        }
      ]
    },
    {
      "cell_type": "code",
      "source": [
        "prediction_function(0.18, 1)"
      ],
      "metadata": {
        "id": "fFXLBNEc_gta",
        "outputId": "66bc9128-3c65-4946-b161-fa2e31437741",
        "colab": {
          "base_uri": "https://localhost:8080/"
        }
      },
      "execution_count": 18,
      "outputs": [
        {
          "output_type": "execute_result",
          "data": {
            "text/plain": [
              "0.35569544317951163"
            ]
          },
          "metadata": {},
          "execution_count": 18
        }
      ]
    },
    {
      "cell_type": "code",
      "source": [
        "\n",
        "def log_loss(y_true, y_predicted):\n",
        "  epsilon = 1e-15\n",
        "  y_prdicted_new = [max(i, epsilon) for i in y_predicted]\n",
        "  y_predicted_new = [min(i, 1-epsilon) for i in y_predicted_new]\n",
        "  y_predicted_new = np.array(y_predicted_new)\n",
        "  return -np.mean(y_true*np.log(y_predicted_new)+(1-y_true)*np.log(1-y_predicted_new))"
      ],
      "metadata": {
        "id": "u_yO4Feb_zOV"
      },
      "execution_count": 36,
      "outputs": []
    },
    {
      "cell_type": "code",
      "source": [
        "def sigmoid_numpy(x):\n",
        "  return 1/(1+np.exp(-x))"
      ],
      "metadata": {
        "id": "SNwL5GKvBI1S"
      },
      "execution_count": 30,
      "outputs": []
    },
    {
      "cell_type": "code",
      "source": [
        "sigmoid_numpy(np.array([12,0,1]))"
      ],
      "metadata": {
        "id": "tJChh_S-BqT2",
        "outputId": "18aca268-8ef1-4b1b-a9c2-916f793bb835",
        "colab": {
          "base_uri": "https://localhost:8080/"
        }
      },
      "execution_count": 32,
      "outputs": [
        {
          "output_type": "execute_result",
          "data": {
            "text/plain": [
              "array([0.99999386, 0.5       , 0.73105858])"
            ]
          },
          "metadata": {},
          "execution_count": 32
        }
      ]
    },
    {
      "cell_type": "code",
      "source": [
        "def gradiant_descent(age, affordibility, y_true, epochs, loss_threshold):\n",
        "  w1=w2=1\n",
        "  bias = 0\n",
        "  rate = 0.5\n",
        "  n = len(age)\n",
        "  for i in range(epochs):\n",
        "    weighted_sum = w1*age + w2*affordibility + bias\n",
        "    y_predicted = sigmoid_numpy(weighted_sum)\n",
        "\n",
        "    loss = log_loss(y_true, y_predicted)\n",
        "    \n",
        "    w1d = (1/n) * np.dot(np.transpose(age), y_predicted-y_true)\n",
        "    w2d = (1/n) * np.dot(np.transpose(affordibility), y_predicted-y_true)\n",
        "    bias_d = np.mean(y_predicted - y_true)\n",
        "\n",
        "    w1 = w1-w1*w1d\n",
        "    w2 = w2-w2*w2d\n",
        "    bias = bias - bias_d\n",
        "\n",
        "    print(f'EPOCH: {i}, w1:{w1}, w2:{w2}, bias:{bias}, loss:{loss}')\n",
        "\n",
        "    if loss<=loss_threshold:\n",
        "      break\n",
        "  \n",
        "  return w1, w2, bias\n"
      ],
      "metadata": {
        "id": "dX9rWo8RHa--"
      },
      "execution_count": 33,
      "outputs": []
    },
    {
      "cell_type": "code",
      "source": [
        "gradiant_descent(X_train_scaled['age'], X_train_scaled['affordibility'], y_train, 1000, 0.4631)"
      ],
      "metadata": {
        "id": "kGrSZp5nKY7v",
        "outputId": "737e33a2-84ee-4fbd-f1c9-37e0059a4853",
        "colab": {
          "base_uri": "https://localhost:8080/"
        }
      },
      "execution_count": 40,
      "outputs": [
        {
          "output_type": "stream",
          "name": "stdout",
          "text": [
            "EPOCH: 0, w1:0.9498152669403539, w2:0.8966962507890579, bias:-0.22683735472737165, loss:0.7113403233723417\n",
            "EPOCH: 1, w1:0.925054634713377, w2:0.8387009996567901, bias:-0.3932380739944269, loss:0.6559178222899531\n",
            "EPOCH: 2, w1:0.9179139705490423, w2:0.8095107320319233, bias:-0.513913643538202, loss:0.6286684873489866\n",
            "EPOCH: 3, w1:0.9226761521745337, w2:0.7983600986264011, bias:-0.6024477911489164, loss:0.6153132049481876\n",
            "EPOCH: 4, w1:0.9354941951727498, w2:0.7985505060503829, bias:-0.6692140353250584, loss:0.6083147723024861\n",
            "EPOCH: 5, w1:0.9538489989846476, w2:0.8059113665963158, bias:-0.7215087281993792, loss:0.6041239934316331\n",
            "EPOCH: 6, w1:0.9760948106684387, w2:0.8177962505475932, bias:-0.764278637573615, loss:0.6011559821572502\n",
            "EPOCH: 7, w1:1.0011510512265671, w2:0.8324892641996668, bias:-0.8008187132064427, loss:0.5987206464625551\n",
            "EPOCH: 8, w1:1.0283049158126472, w2:0.8488579438805842, bias:-0.8333016093246198, loss:0.5965217939255623\n",
            "EPOCH: 9, w1:1.0570854661066305, w2:0.8661455799389599, bias:-0.8631494442358907, loss:0.5944336328261222\n",
            "EPOCH: 10, w1:1.0871822623712608, w2:0.8838427533502969, bias:-0.8912868904941329, loss:0.5924031590814701\n",
            "EPOCH: 11, w1:1.1183919357725849, w2:0.9016053027229537, bias:-0.9183110974673193, loss:0.590408048824748\n",
            "EPOCH: 12, w1:1.150582646819809, w2:0.919200608423144, bias:-0.944604892565282, loss:0.5884386902854618\n",
            "EPOCH: 13, w1:1.1836702366919492, w2:0.9364718069586914, bias:-0.9704117625553464, loss:0.5864906137101974\n",
            "EPOCH: 14, w1:1.217602150451686, w2:0.9533137020756977, bias:-0.995885256325796, loss:0.5845613568201838\n",
            "EPOCH: 15, w1:1.2523465827431475, w2:0.96965646415851, bias:-1.0211213577740268, loss:0.5826492000275504\n",
            "EPOCH: 16, w1:1.28788515357197, w2:0.9854545785982842, bias:-1.0461795754750034, loss:0.5807526776955465\n",
            "EPOCH: 17, w1:1.3242079751228835, w2:1.0006793516247692, bias:-1.0710965936635348, loss:0.5788704046182696\n",
            "EPOCH: 18, w1:1.3613103371961843, w2:1.0153138298961997, bias:-1.0958950444102893, loss:0.5770010263852624\n",
            "EPOCH: 19, w1:1.3991904859931479, w2:1.029349355077345, bias:-1.1205890971186843, loss:0.5751432156942103\n",
            "EPOCH: 20, w1:1.4378481392268874, w2:1.0427832223555566, bias:-1.1451879834259004, loss:0.5732956836970449\n",
            "EPOCH: 21, w1:1.4772834955361045, w2:1.0556170815532842, bias:-1.169698190689228, loss:0.5714571946054542\n",
            "EPOCH: 22, w1:1.5174965747936926, w2:1.0678558360380712, bias:-1.1941248022978885, loss:0.5696265793845624\n",
            "EPOCH: 23, w1:1.55848677951031, w2:1.0795068744976202, bias:-1.2184722951072058, loss:0.5678027472798587\n",
            "EPOCH: 24, w1:1.6002526039405738, w2:1.090579525117621, bias:-1.2427449942653872, loss:0.5659846949809567\n",
            "EPOCH: 25, w1:1.6427914421014858, w2:1.1010846586133811, bias:-1.2669473140128318, loss:0.5641715135723125\n",
            "EPOCH: 26, w1:1.6860994624446053, w2:1.1110343914027851, bias:-1.2910838665722024, loss:0.5623623935084898\n",
            "EPOCH: 27, w1:1.7301715279669347, w2:1.1204418567942471, bias:-1.3151594912927551, loss:0.5605566278528783\n",
            "EPOCH: 28, w1:1.7750011478771242, w2:1.129321023057639, bias:-1.3391792369967408, loss:0.5587536139966156\n",
            "EPOCH: 29, w1:1.8205804517696251, w2:1.1376865444822823, bias:-1.3631483182079924, loss:0.5569528540496\n",
            "EPOCH: 30, w1:1.8669001804272705, w2:1.1455536362579675, bias:-1.3870720581463611, loss:0.5551539540735337\n",
            "EPOCH: 31, w1:1.9139496894318926, w2:1.1529379670924353, bias:-1.4109558264379214, loss:0.5533566223086317\n",
            "EPOCH: 32, w1:1.9617169630889233, w2:1.1598555654724538, bias:-1.4348049763811455, loss:0.5515606665303556\n",
            "EPOCH: 33, w1:2.010188637016487, w2:1.166322736765119, bias:-1.4586247846564953, loss:0.5497659906595563\n",
            "EPOCH: 34, w1:2.0593500282790327, w2:1.1723559891914914, bias:-1.4824203951449528, loss:0.5479725907381344\n",
            "EPOCH: 35, w1:2.109185172270194, w2:1.1779719672494795, bias:-1.506196767759007, loss:0.5461805503724\n",
            "EPOCH: 36, w1:2.1596768657418073, w2:1.183187391522678, bias:-1.5299586327160912, loss:0.5443900357374291\n",
            "EPOCH: 37, w1:2.210806715483374, w2:1.1880190040544083, bias:-1.5537104503913954, loss:0.5426012902277277\n",
            "EPOCH: 38, w1:2.2625551922098635, w2:1.1924835186344604, bias:-1.577456376706498, loss:0.5408146288322809\n",
            "EPOCH: 39, w1:2.3149016892359597, w2:1.1965975754670772, bias:-1.6012002338999656, loss:0.5390304323054798\n",
            "EPOCH: 40, w1:2.367824585515077, w2:1.2003776997793647, bias:-1.6249454864594006, loss:0.5372491411994067\n",
            "EPOCH: 41, w1:2.4213013126104714, w2:1.2038402639999735, bias:-1.6486952219549325, loss:0.5354712498174089\n",
            "EPOCH: 42, w1:2.4753084251494415, w2:1.2070014531949131, bias:-1.6724521364915699, loss:0.5336973001437566\n",
            "EPOCH: 43, w1:2.5298216742938306, w2:1.2098772334946182, bias:-1.6962185244858219, loss:0.5319278757993772\n",
            "EPOCH: 44, w1:2.584816083743462, w2:1.2124833232862195, bias:-1.7199962724666378, loss:0.5301635960691183\n",
            "EPOCH: 45, w1:2.6402660277754895, w2:1.214835166978832, bias:-1.7437868565995898, loss:0.5284051100416846\n",
            "EPOCH: 46, w1:2.69614531081314, w2:1.2169479111784773, bias:-1.7675913436348831, loss:0.5266530908992475\n",
            "EPOCH: 47, w1:2.752427248012661, w2:1.2188363831336153, bias:-1.7914103949833162, loss:0.5249082303897319\n",
            "EPOCH: 48, w1:2.8090847463579025, w2:1.2205150713326243, bias:-1.8152442736292405, loss:0.5231712335109022\n",
            "EPOCH: 49, w1:2.866090385758056, w2:1.221998108151324, bias:-1.839092853595562, loss:0.5214428134315833\n",
            "EPOCH: 50, w1:2.9234164996555503, w2:1.2232992544620958, bias:-1.8629556316827451, loss:0.519723686671671\n",
            "EPOCH: 51, w1:2.9810352546678636, w2:1.2244318861266528, bias:-1.886831741211518, loss:0.5180145685589882\n",
            "EPOCH: 52, w1:3.038918728808643, w2:1.2254089823023735, bias:-1.9107199675075168, loss:0.5163161689775493\n",
            "EPOCH: 53, w1:3.0970389878596696, w2:1.2262431154976243, bias:-1.934618764875395, loss:0.5146291884184194\n",
            "EPOCH: 54, w1:3.155368159495286, w2:1.2269464433150175, bias:-1.958526274819962, loss:0.5129543143410925\n",
            "EPOCH: 55, w1:3.2138785047943763, w2:1.2275307018233523, bias:-1.9824403452826584, loss:0.51129221785021\n",
            "EPOCH: 56, w1:3.2725424868111923, w2:1.2280072004994056, bias:-2.0063585506730934, loss:0.5096435506894893\n",
            "EPOCH: 57, w1:3.3313328359146204, w2:1.2283868186800369, bias:-2.0302782124874112, loss:0.5080089425519648\n",
            "EPOCH: 58, w1:3.3902226116452012, w2:1.2286800034635557, bias:-2.0541964203178287, loss:0.5063889987030753\n",
            "EPOCH: 59, w1:3.4491852608797053, w2:1.2288967689971912, bias:-2.0781100530707577, loss:0.5047842979107746\n",
            "EPOCH: 60, w1:3.508194672133697, w2:1.2290466970850524, bias:-2.1020158002243403, loss:0.5031953906747113\n",
            "EPOCH: 61, w1:3.5672252258727, w2:1.2291389390483798, bias:-2.1259101829699345, loss:0.5016227977446215\n",
            "EPOCH: 62, w1:3.626251840741754, w2:1.2291822187673291, bias:-2.1497895750959417, loss:0.5000670089164246\n",
            "EPOCH: 63, w1:3.68525001566086, w2:1.229184836831162, bias:-2.1736502234862733, loss:0.49852848209309997\n",
            "EPOCH: 64, w1:3.74419586776961, w2:1.2291546757216552, bias:-2.1974882681195846, loss:0.49700764259624053\n",
            "EPOCH: 65, w1:3.8030661662378216, w2:1.2290992059528953, bias:-2.2212997614690564, loss:0.49550488271325216\n",
            "EPOCH: 66, w1:3.861838361990009, w2:1.2290254930894464, bias:-2.2450806872158515, loss:0.49402056146445594\n",
            "EPOCH: 67, w1:3.9204906134197324, w2:1.228940205564235, bias:-2.2688269782023394, loss:0.49255500457386353\n",
            "EPOCH: 68, w1:3.9790018081951897, w2:1.2288496232174033, bias:-2.29253453356365, loss:0.491108504627112\n",
            "EPOCH: 69, w1:4.037351581279725, w2:1.228759646477841, bias:-2.316199234988018, loss:0.4896813213999597\n",
            "EPOCH: 70, w1:4.0955203293102, w2:1.2286758061101284, bias:-2.339816962067642, loss:0.48827368234081975\n",
            "EPOCH: 71, w1:4.153489221492452, w2:1.2286032734511567, bias:-2.3633836067123357, loss:0.4868857831910546\n",
            "EPOCH: 72, w1:4.211240207186404, w2:1.2285468710627248, bias:-2.386895086608079, loss:0.4855177887271338\n",
            "EPOCH: 73, w1:4.268756020363878, w2:1.2285110837288888, bias:-2.4103473577115975, loss:0.48416983360925553\n",
            "EPOCH: 74, w1:4.326020181130016, w2:1.2285000697297113, bias:-2.4337364257803644, loss:0.4828420233216361\n",
            "EPOCH: 75, w1:4.383016994504502, w2:1.2285176723262679, bias:-2.4570583569448337, loss:0.48153443519035694\n",
            "EPOCH: 76, w1:4.439731546661798, w2:1.2285674313952641, bias:-2.4803092873363655, loss:0.4802471194654148\n",
            "EPOCH: 77, w1:4.496149698830437, w2:1.2286525951553355, bias:-2.5034854317901374, loss:0.4789801004544201\n",
            "EPOCH: 78, w1:4.552258079050442, w2:1.2287761319309805, bias:-2.5265830916474137, loss:0.47773337769623486\n",
            "EPOCH: 79, w1:4.60804407198517, w2:1.2289407419040839, bias:-2.5495986616858715, loss:0.47650692716369636\n",
            "EPOCH: 80, w1:4.663495806979714, w2:1.2291488688070338, bias:-2.572528636210311, loss:0.4753007024854487\n",
            "EPOCH: 81, w1:4.718602144552532, w2:1.229402711515504, bias:-2.59536961433903, loss:0.4741146361777738\n",
            "EPOCH: 82, w1:4.773352661500457, w2:1.2297042355030114, bias:-2.618118304523486, loss:0.4729486408781659\n",
            "EPOCH: 83, w1:4.827737634789853, w2:1.230055184123315, bias:-2.6407715283406015, loss:0.47180261057323813\n",
            "EPOCH: 84, w1:4.881748024398607, w2:1.2304570896905818, bias:-2.663326223598328, loss:0.47067642181435476\n",
            "EPOCH: 85, w1:4.93537545526507, w2:1.2309112843309697, bias:-2.6857794467957947, loss:0.4695699349151692\n",
            "EPOCH: 86, w1:4.988612198491062, w2:1.2314189105828348, bias:-2.7081283749797103, loss:0.46848299512597635\n",
            "EPOCH: 87, w1:5.041451151936893, w2:1.2319809317261632, bias:-2.7303703070385925, loss:0.46741543378050293\n",
            "EPOCH: 88, w1:5.093885820337033, w2:1.2325981418250207, bias:-2.752502664476013, loss:0.46636706941140743\n",
            "EPOCH: 89, w1:5.145910295055751, w2:1.2332711754698036, bias:-2.774522991703327, loss:0.4653377088313777\n",
            "EPOCH: 90, w1:5.1975192335928355, w2:1.2340005172088584, bias:-2.7964289558914164, loss:0.464327148177282\n",
            "EPOCH: 91, w1:5.2487078389404624, w2:1.2347865106616076, bias:-2.818218346419817, loss:0.4633351739153506\n",
            "EPOCH: 92, w1:5.2994718388834645, w2:1.2356293673076815, bias:-2.8398890739602574, loss:0.4623615638058439\n"
          ]
        },
        {
          "output_type": "execute_result",
          "data": {
            "text/plain": [
              "(5.2994718388834645, 1.2356293673076815, -2.8398890739602574)"
            ]
          },
          "metadata": {},
          "execution_count": 40
        }
      ]
    },
    {
      "cell_type": "code",
      "source": [
        "coef, intercept"
      ],
      "metadata": {
        "id": "eWk7GMFXLknA",
        "outputId": "c32ed2b6-a70d-4e0f-a01b-837c4e3960f9",
        "colab": {
          "base_uri": "https://localhost:8080/"
        }
      },
      "execution_count": 41,
      "outputs": [
        {
          "output_type": "execute_result",
          "data": {
            "text/plain": [
              "(array([[5.060868],\n",
              "        [1.40865 ]], dtype=float32), array([-2.913703], dtype=float32))"
            ]
          },
          "metadata": {},
          "execution_count": 41
        }
      ]
    }
  ]
}