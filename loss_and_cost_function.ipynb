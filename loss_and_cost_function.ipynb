{
  "nbformat": 4,
  "nbformat_minor": 0,
  "metadata": {
    "colab": {
      "provenance": [],
      "collapsed_sections": [],
      "authorship_tag": "ABX9TyO6DF7prNaOOFXIgSS0W3UQ",
      "include_colab_link": true
    },
    "kernelspec": {
      "name": "python3",
      "display_name": "Python 3"
    },
    "language_info": {
      "name": "python"
    }
  },
  "cells": [
    {
      "cell_type": "markdown",
      "metadata": {
        "id": "view-in-github",
        "colab_type": "text"
      },
      "source": [
        "<a href=\"https://colab.research.google.com/github/JoyKarmoker/Python-Codes-ML/blob/master/loss_and_cost_function.ipynb\" target=\"_parent\"><img src=\"https://colab.research.google.com/assets/colab-badge.svg\" alt=\"Open In Colab\"/></a>"
      ]
    },
    {
      "cell_type": "code",
      "execution_count": 1,
      "metadata": {
        "id": "mFkA6Tr-Z8Cm"
      },
      "outputs": [],
      "source": [
        "import numpy as np\n",
        "y_predicted = np.array([1,1,0,0,1])\n",
        "y_true = np.array([0.3, 0.7, 1, 0, 0.5])"
      ]
    },
    {
      "cell_type": "code",
      "source": [
        "def mae(y_true, y_predicted):\n",
        "  total_error = 0;\n",
        "  for yp, yt in zip(y_predicted, y_true):\n",
        "    total_error += abs(yp-yt)\n",
        "    \n",
        "  print(\"Toral Erro: \", total_error)\n",
        "  mae = total_error / len(y_true)\n",
        "  print(\"MAE: \", mae)\n",
        "  return\n",
        "  "
      ],
      "metadata": {
        "id": "cQYbg2rNvMZr"
      },
      "execution_count": 9,
      "outputs": []
    },
    {
      "cell_type": "code",
      "source": [
        "mae(y_predicted, y_true)"
      ],
      "metadata": {
        "colab": {
          "base_uri": "https://localhost:8080/"
        },
        "id": "oIc9FUaHvgkN",
        "outputId": "d9454bcc-d3af-432f-bc7b-8857b917928d"
      },
      "execution_count": 10,
      "outputs": [
        {
          "output_type": "stream",
          "name": "stdout",
          "text": [
            "Toral Erro:  2.5\n",
            "MAE:  0.5\n"
          ]
        }
      ]
    },
    {
      "cell_type": "code",
      "source": [
        "np.mean(np.abs(y_predicted - y_true))"
      ],
      "metadata": {
        "colab": {
          "base_uri": "https://localhost:8080/"
        },
        "id": "RKU-K-VqwPVl",
        "outputId": "afaeef6c-1302-4149-cdd6-d7de117ea124"
      },
      "execution_count": 12,
      "outputs": [
        {
          "output_type": "execute_result",
          "data": {
            "text/plain": [
              "0.5"
            ]
          },
          "metadata": {},
          "execution_count": 12
        }
      ]
    },
    {
      "cell_type": "code",
      "source": [
        "np.sum(np.abs(y_predicted - y_true))"
      ],
      "metadata": {
        "colab": {
          "base_uri": "https://localhost:8080/"
        },
        "id": "rSTAdZxMwal1",
        "outputId": "aecc934a-97b8-4742-dba5-82e8c36f4bc3"
      },
      "execution_count": 13,
      "outputs": [
        {
          "output_type": "execute_result",
          "data": {
            "text/plain": [
              "2.5"
            ]
          },
          "metadata": {},
          "execution_count": 13
        }
      ]
    },
    {
      "cell_type": "code",
      "source": [
        "np.log([0])"
      ],
      "metadata": {
        "colab": {
          "base_uri": "https://localhost:8080/"
        },
        "id": "c2dIBZ8gwoYT",
        "outputId": "aa89e59b-d0a1-4d81-d1ae-922fed8d9d66"
      },
      "execution_count": 14,
      "outputs": [
        {
          "output_type": "stream",
          "name": "stderr",
          "text": [
            "/usr/local/lib/python3.7/dist-packages/ipykernel_launcher.py:1: RuntimeWarning: divide by zero encountered in log\n",
            "  \"\"\"Entry point for launching an IPython kernel.\n"
          ]
        },
        {
          "output_type": "execute_result",
          "data": {
            "text/plain": [
              "array([-inf])"
            ]
          },
          "metadata": {},
          "execution_count": 14
        }
      ]
    },
    {
      "cell_type": "code",
      "source": [
        "np.log([0.000000001])"
      ],
      "metadata": {
        "colab": {
          "base_uri": "https://localhost:8080/"
        },
        "id": "iHYT9K2hwscl",
        "outputId": "991a06a1-eea6-4938-f77a-092b94248467"
      },
      "execution_count": 15,
      "outputs": [
        {
          "output_type": "execute_result",
          "data": {
            "text/plain": [
              "array([-20.72326584])"
            ]
          },
          "metadata": {},
          "execution_count": 15
        }
      ]
    },
    {
      "cell_type": "code",
      "source": [],
      "metadata": {
        "id": "Zou0B4d4yOaV"
      },
      "execution_count": 40,
      "outputs": []
    },
    {
      "cell_type": "code",
      "source": [],
      "metadata": {
        "id": "NBO-4fBu1xud"
      },
      "execution_count": 45,
      "outputs": []
    },
    {
      "cell_type": "code",
      "source": [
        "def log_loss(y_true, y_predicted):\n",
        "  epsilon = 1e-15\n",
        "  y_predicted_new = [max(i, epsilon)for i in y_predicted]\n",
        "  y_predicted_new = [min(i, 1-epsilon)for i in y_predicted_new]\n",
        "  one_minus_y_predicted_new = [(1-i) for i in y_predicted_new]\n",
        "  return -np.mean(y_true*np.log(y_predicted_new) + (1-y_true) * np.log(one_minus_y_predicted_new) )"
      ],
      "metadata": {
        "id": "vUE5fj3l0SqU"
      },
      "execution_count": 48,
      "outputs": []
    },
    {
      "cell_type": "code",
      "source": [
        "log_loss(y_true, y_predicted)"
      ],
      "metadata": {
        "colab": {
          "base_uri": "https://localhost:8080/"
        },
        "id": "gtGb755-2-GV",
        "outputId": "aeb0b30f-462c-406b-b2eb-372a48c1e356"
      },
      "execution_count": 49,
      "outputs": [
        {
          "output_type": "execute_result",
          "data": {
            "text/plain": [
              "17.2696280766844"
            ]
          },
          "metadata": {},
          "execution_count": 49
        }
      ]
    },
    {
      "cell_type": "code",
      "source": [
        "def mse(y_true, y_predicted):\n",
        "  total = 0\n",
        "  for yt, yp in zip(y_true, y_predicted):\n",
        "    total += pow(abs(yt-yp), 2)\n",
        "  \n",
        "  print(\"Total: \", total)\n",
        "  mse = total/len(y_true)\n",
        "  print(\"MSE: \", mse)"
      ],
      "metadata": {
        "id": "OCdk4lAw3SRz"
      },
      "execution_count": 54,
      "outputs": []
    },
    {
      "cell_type": "code",
      "source": [
        "mse(y_true, y_predicted)"
      ],
      "metadata": {
        "colab": {
          "base_uri": "https://localhost:8080/"
        },
        "id": "PceiuGit3oG3",
        "outputId": "69a18a3b-4b6f-433c-fd9b-e75090c90104"
      },
      "execution_count": 55,
      "outputs": [
        {
          "output_type": "stream",
          "name": "stdout",
          "text": [
            "Total:  1.83\n",
            "MSE:  0.366\n"
          ]
        }
      ]
    },
    {
      "cell_type": "code",
      "source": [
        "np.sum(np.square(np.abs(y_true-y_predicted)))"
      ],
      "metadata": {
        "colab": {
          "base_uri": "https://localhost:8080/"
        },
        "id": "l7pPml3Y4QAl",
        "outputId": "59d684cc-c1bd-4a20-b100-2cbc235e49df"
      },
      "execution_count": 57,
      "outputs": [
        {
          "output_type": "execute_result",
          "data": {
            "text/plain": [
              "1.83"
            ]
          },
          "metadata": {},
          "execution_count": 57
        }
      ]
    },
    {
      "cell_type": "code",
      "source": [
        "np.mean(np.square(np.abs(y_true-y_predicted)))"
      ],
      "metadata": {
        "colab": {
          "base_uri": "https://localhost:8080/"
        },
        "id": "LzOQXN8K4tMD",
        "outputId": "2a894933-8819-4439-d4b4-0e763de4174d"
      },
      "execution_count": 59,
      "outputs": [
        {
          "output_type": "execute_result",
          "data": {
            "text/plain": [
              "0.366"
            ]
          },
          "metadata": {},
          "execution_count": 59
        }
      ]
    }
  ]
}