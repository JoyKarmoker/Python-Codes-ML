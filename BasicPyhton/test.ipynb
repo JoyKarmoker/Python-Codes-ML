{
 "cells": [
  {
   "cell_type": "code",
   "execution_count": 7,
   "metadata": {},
   "outputs": [
    {
     "name": "stdout",
     "output_type": "stream",
     "text": [
      "Inside fun a:  20 \n",
      "Inside fun b:  10\n",
      "Geeks for geeks 20\n"
     ]
    }
   ],
   "source": [
    "def fun(a , b):\n",
    "    print(\"Inside fun a: \", a, \"\\nInside fun b: \", b)\n",
    "    str = \"Geeks for geeks\"\n",
    "    x = 20\n",
    "    return (str, x)\n",
    "tup = fun(b=10, a=20)\n",
    "print(tup[0], tup[1])"
   ]
  },
  {
   "cell_type": "code",
   "execution_count": 2,
   "metadata": {},
   "outputs": [
    {
     "name": "stdout",
     "output_type": "stream",
     "text": [
      "Type of variable before convertion :  <class 'int'>\n",
      "10\n",
      "Type After convertion :  <class 'str'>\n"
     ]
    }
   ],
   "source": [
    "num = 10\n",
    "\n",
    "# check and print type of num variable\n",
    "print(\"Type of variable before convertion : \", type(num))\n",
    "\n",
    "# convert the num into string\n",
    "converted_num = str(num)\n",
    "print(converted_num)\n",
    "# check and print type converted_num variable\n",
    "print(\"Type After convertion : \",type(converted_num))\n",
    "\n"
   ]
  }
 ],
 "metadata": {
  "kernelspec": {
   "display_name": "Python 3.10.4 64-bit",
   "language": "python",
   "name": "python3"
  },
  "language_info": {
   "codemirror_mode": {
    "name": "ipython",
    "version": 3
   },
   "file_extension": ".py",
   "mimetype": "text/x-python",
   "name": "python",
   "nbconvert_exporter": "python",
   "pygments_lexer": "ipython3",
   "version": "3.10.4"
  },
  "orig_nbformat": 4,
  "vscode": {
   "interpreter": {
    "hash": "916dbcbb3f70747c44a77c7bcd40155683ae19c65e1c03b4aa3499c5328201f1"
   }
  }
 },
 "nbformat": 4,
 "nbformat_minor": 2
}
